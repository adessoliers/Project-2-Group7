{
 "cells": [
  {
   "cell_type": "code",
   "execution_count": 1,
   "metadata": {},
   "outputs": [],
   "source": [
    "import os\n",
    "import pandas as pd"
   ]
  },
  {
   "cell_type": "code",
   "execution_count": 2,
   "metadata": {},
   "outputs": [],
   "source": [
    "#Import files\n",
    "genfile = \"../rawData/EIA_generation_by_state.xls\"\n",
    "emissfile = \"../rawData/EIA_emissions_by_state.xls\"\n",
    "greenhousefile = \"../rawData/ghgp_data_by_year.xls\""
   ]
  },
  {
   "cell_type": "code",
   "execution_count": 3,
   "metadata": {},
   "outputs": [],
   "source": [
    "#Format into pandas DF\n",
    "generationXls = pd.ExcelFile(genfile)\n",
    "emissfileXls = pd.ExcelFile(emissfile)\n",
    "greenhouseXls = pd.ExcelFile(greenhousefile)\n",
    "\n",
    "generation_df = generationXls.parse('Net_Generation_1990-2019 Final',skiprows=1,header=0)\n",
    "emissions_df = emissfileXls.parse('State Emissions',header=0)\n",
    "greenhouse_df = greenhouseXls.parse('Direct Emitters',skiprows=3,header=0)"
   ]
  },
  {
   "cell_type": "code",
   "execution_count": 4,
   "metadata": {
    "scrolled": true
   },
   "outputs": [],
   "source": [
    "# generation_df.columns\n",
    "# emissions_df.head()\n",
    "# greenhouse_df.head()           \n",
    "# greenhouse_df.columns"
   ]
  },
  {
   "cell_type": "code",
   "execution_count": 5,
   "metadata": {},
   "outputs": [],
   "source": [
    "#Format columns & clean data\n",
    "generation_df.columns= ['year','state','producer type','energy source','generation(mwH)']\n",
    "generation_df = generation_df.replace({'state':{'US-Total':'US', 'US-TOTAL': 'US'},\n",
    "                                       'energy source':{'All Sources':'Total'}})\n",
    "# generation_df.head()\n",
    "\n",
    "emissions_df.columns = ['year','state','producer type','energy source','CO2 (MT)','SO2 (MT)','NOx (MT)']\n",
    "emissions_df = emissions_df.replace({'state':{'US-Total':'US','US-TOTAL':'US'},\n",
    "                                     'energy source':{'All Sources':'Total'}})\n",
    "# emissions_df.head()\n",
    "\n",
    "greenhouse_df.columns = ['facility id','frs id','facility name','city','state','zip','address','county','latitude','longitude',\n",
    "                         'naics code','industry type (subpart)','industry type (sectors)',\n",
    "                         '2019 Total Emissions','2018 Total Emissions','2017 Total Emissions','2016 Total Emissions','2015 Total Emissions',\n",
    "                         '2014 Total Emissions','2013 Total Emissions','2012 Total Emissions','2011 Total Emissions']\n",
    "\n",
    "# greenhouse_df.head()"
   ]
  },
  {
   "cell_type": "code",
   "execution_count": 6,
   "metadata": {},
   "outputs": [
    {
     "name": "stderr",
     "output_type": "stream",
     "text": [
      "C:\\Users\\cupan\\.conda\\envs\\pythondata\\lib\\site-packages\\ipykernel_launcher.py:12: UserWarning: Boolean Series key will be reindexed to match DataFrame index.\n",
      "  if sys.path[0] == '':\n"
     ]
    }
   ],
   "source": [
    "#Pulling in one producer type for analysis with MERGE\n",
    "Gen_by_state = generation_df.loc[generation_df['producer type'] == 'Total Electric Power Industry']\n",
    "# Gen_by_state.head()\n",
    "\n",
    "Emiss_by_state = emissions_df.loc[emissions_df['producer type'] == 'Total Electric Power Industry']\n",
    "\n",
    "stateEnergy = pd.merge(Emiss_by_state,Gen_by_state,\n",
    "                       on=['year','state','producer type','energy source'],how='outer')\n",
    "# stateEnergy.head()\n",
    "\n",
    "greenhouse_df_loc = greenhouse_df.loc[greenhouse_df['industry type (sectors)'] == 'Power Plants']\n",
    "greenhouse_update = greenhouse_df_loc[~greenhouse_df['state'].isin(['VI,GU,PR'])]"
   ]
  },
  {
   "cell_type": "code",
   "execution_count": 7,
   "metadata": {
    "scrolled": true
   },
   "outputs": [],
   "source": [
    "# greenhouse_update.head()\n",
    "# greenhouse_df_loc\n",
    "# greenhouse_update.columns\n",
    "# greenhouse_update.values"
   ]
  },
  {
   "cell_type": "code",
   "execution_count": 8,
   "metadata": {},
   "outputs": [
    {
     "name": "stderr",
     "output_type": "stream",
     "text": [
      "C:\\Users\\cupan\\.conda\\envs\\pythondata\\lib\\site-packages\\ipykernel_launcher.py:4: FutureWarning: Indexing with multiple keys (implicitly converted to a tuple of keys) will be deprecated, use a list instead.\n",
      "  after removing the cwd from sys.path.\n"
     ]
    }
   ],
   "source": [
    "#FORMAT GREENHOUSE\n",
    "greenhouse_groupby = greenhouse_update.groupby(['state'])['2019 Total Emissions', '2018 Total Emissions', '2017 Total Emissions',\n",
    "       '2016 Total Emissions', '2015 Total Emissions', '2014 Total Emissions',\n",
    "       '2013 Total Emissions', '2012 Total Emissions', '2011 Total Emissions'].sum()\n",
    "greenhouse_groupby.columns=['2019','2018','2017','2016','2015','2014','2013','2012','2011']\n",
    "greenhouse_groupby.head()\n",
    "idgreenhouse = greenhouse_groupby.stack()\n",
    "greenhouse_by_state = pd.DataFrame(idgreenhouse)\n",
    "greenhouse_by_state.reset_index(inplace=True)\n",
    "greenhouse_by_state.columns = ['state','year','greenhouse emissions']\n",
    "greenhouse_by_state['year'] = pd.to_numeric(greenhouse_by_state['year'])\n",
    "# greenhouse_by_state.head()\n",
    "# greenhouse_by_state.dtypes"
   ]
  },
  {
   "cell_type": "code",
   "execution_count": 9,
   "metadata": {},
   "outputs": [],
   "source": [
    "stateEnergy.to_csv('../cleanData/stateEnergy.csv',index=False,header=True)\n",
    "greenhouse_by_state.to_csv('../cleanData/greenhouse_by_state.csv',index=False,header=True)"
   ]
  },
  {
   "cell_type": "code",
   "execution_count": null,
   "metadata": {},
   "outputs": [],
   "source": []
  },
  {
   "cell_type": "code",
   "execution_count": null,
   "metadata": {},
   "outputs": [],
   "source": []
  }
 ],
 "metadata": {
  "kernelspec": {
   "display_name": "Python [conda env:.conda-pythondata] *",
   "language": "python",
   "name": "conda-env-.conda-pythondata-py"
  },
  "language_info": {
   "codemirror_mode": {
    "name": "ipython",
    "version": 3
   },
   "file_extension": ".py",
   "mimetype": "text/x-python",
   "name": "python",
   "nbconvert_exporter": "python",
   "pygments_lexer": "ipython3",
   "version": "3.6.12"
  }
 },
 "nbformat": 4,
 "nbformat_minor": 4
}
